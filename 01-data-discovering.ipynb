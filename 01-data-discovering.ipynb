{
 "cells": [
  {
   "cell_type": "code",
   "execution_count": 2,
   "metadata": {
    "editable": true
   },
   "outputs": [],
   "source": [
    "import os\n",
    "import glob\n",
    "import psycopg2\n",
    "import pandas as pd\n",
    "\n",
    "pd.set_option('display.max_colwidth', -1)\n",
    "pd.set_option('display.max_columns', None)\n",
    "pd.set_option('display.max_rows', None)"
   ]
  },
  {
   "cell_type": "code",
   "execution_count": 23,
   "metadata": {
    "editable": true
   },
   "outputs": [],
   "source": [
    "filepath = os.path.join(os.getcwd(), 'data', 'log_data', '2018', '11', '2018-11-30-events.json')"
   ]
  },
  {
   "cell_type": "code",
   "execution_count": 24,
   "metadata": {
    "editable": true
   },
   "outputs": [],
   "source": [
    "tmp_data = pd.read_json(filepath,lines = True)"
   ]
  },
  {
   "cell_type": "code",
   "execution_count": 18,
   "metadata": {
    "editable": true
   },
   "outputs": [
    {
     "name": "stdout",
     "output_type": "stream",
     "text": [
      "<class 'pandas.core.frame.DataFrame'>\n",
      "RangeIndex: 388 entries, 0 to 387\n",
      "Data columns (total 18 columns):\n",
      "artist           330 non-null object\n",
      "auth             388 non-null object\n",
      "firstName        376 non-null object\n",
      "gender           376 non-null object\n",
      "itemInSession    388 non-null int64\n",
      "lastName         376 non-null object\n",
      "length           330 non-null float64\n",
      "level            388 non-null object\n",
      "location         376 non-null object\n",
      "method           388 non-null object\n",
      "page             388 non-null object\n",
      "registration     376 non-null float64\n",
      "sessionId        388 non-null int64\n",
      "song             330 non-null object\n",
      "status           388 non-null int64\n",
      "ts               388 non-null int64\n",
      "userAgent        376 non-null object\n",
      "userId           388 non-null object\n",
      "dtypes: float64(2), int64(4), object(12)\n",
      "memory usage: 54.6+ KB\n"
     ]
    }
   ],
   "source": [
    "tmp_data.info()"
   ]
  },
  {
   "cell_type": "code",
   "execution_count": 26,
   "metadata": {
    "editable": true
   },
   "outputs": [
    {
     "data": {
      "text/html": [
       "<div>\n",
       "<style scoped>\n",
       "    .dataframe tbody tr th:only-of-type {\n",
       "        vertical-align: middle;\n",
       "    }\n",
       "\n",
       "    .dataframe tbody tr th {\n",
       "        vertical-align: top;\n",
       "    }\n",
       "\n",
       "    .dataframe thead th {\n",
       "        text-align: right;\n",
       "    }\n",
       "</style>\n",
       "<table border=\"1\" class=\"dataframe\">\n",
       "  <thead>\n",
       "    <tr style=\"text-align: right;\">\n",
       "      <th></th>\n",
       "      <th>artist</th>\n",
       "      <th>auth</th>\n",
       "      <th>firstName</th>\n",
       "      <th>gender</th>\n",
       "      <th>itemInSession</th>\n",
       "      <th>lastName</th>\n",
       "      <th>length</th>\n",
       "      <th>level</th>\n",
       "      <th>location</th>\n",
       "      <th>method</th>\n",
       "      <th>page</th>\n",
       "      <th>registration</th>\n",
       "      <th>sessionId</th>\n",
       "      <th>song</th>\n",
       "      <th>status</th>\n",
       "      <th>ts</th>\n",
       "      <th>userAgent</th>\n",
       "      <th>userId</th>\n",
       "    </tr>\n",
       "  </thead>\n",
       "  <tbody>\n",
       "    <tr>\n",
       "      <th>382</th>\n",
       "      <td>Foo Fighters</td>\n",
       "      <td>Logged In</td>\n",
       "      <td>Rylan</td>\n",
       "      <td>M</td>\n",
       "      <td>57</td>\n",
       "      <td>George</td>\n",
       "      <td>271.38567</td>\n",
       "      <td>paid</td>\n",
       "      <td>Birmingham-Hoover, AL</td>\n",
       "      <td>PUT</td>\n",
       "      <td>NextSong</td>\n",
       "      <td>1.541020e+12</td>\n",
       "      <td>1076</td>\n",
       "      <td>The Pretender</td>\n",
       "      <td>200</td>\n",
       "      <td>1543603205796</td>\n",
       "      <td>\"Mozilla/5.0 (Macintosh; Intel Mac OS X 10_9_4) AppleWebKit/537.77.4 (KHTML, like Gecko) Version/7.0.5 Safari/537.77.4\"</td>\n",
       "      <td>16</td>\n",
       "    </tr>\n",
       "    <tr>\n",
       "      <th>383</th>\n",
       "      <td>Timbiriche</td>\n",
       "      <td>Logged In</td>\n",
       "      <td>Rylan</td>\n",
       "      <td>M</td>\n",
       "      <td>58</td>\n",
       "      <td>George</td>\n",
       "      <td>202.60526</td>\n",
       "      <td>paid</td>\n",
       "      <td>Birmingham-Hoover, AL</td>\n",
       "      <td>PUT</td>\n",
       "      <td>NextSong</td>\n",
       "      <td>1.541020e+12</td>\n",
       "      <td>1076</td>\n",
       "      <td>Besos De Ceniza</td>\n",
       "      <td>200</td>\n",
       "      <td>1543603476796</td>\n",
       "      <td>\"Mozilla/5.0 (Macintosh; Intel Mac OS X 10_9_4) AppleWebKit/537.77.4 (KHTML, like Gecko) Version/7.0.5 Safari/537.77.4\"</td>\n",
       "      <td>16</td>\n",
       "    </tr>\n",
       "    <tr>\n",
       "      <th>384</th>\n",
       "      <td>A Perfect Circle</td>\n",
       "      <td>Logged In</td>\n",
       "      <td>Rylan</td>\n",
       "      <td>M</td>\n",
       "      <td>59</td>\n",
       "      <td>George</td>\n",
       "      <td>206.05342</td>\n",
       "      <td>paid</td>\n",
       "      <td>Birmingham-Hoover, AL</td>\n",
       "      <td>PUT</td>\n",
       "      <td>NextSong</td>\n",
       "      <td>1.541020e+12</td>\n",
       "      <td>1076</td>\n",
       "      <td>Rose</td>\n",
       "      <td>200</td>\n",
       "      <td>1543603678796</td>\n",
       "      <td>\"Mozilla/5.0 (Macintosh; Intel Mac OS X 10_9_4) AppleWebKit/537.77.4 (KHTML, like Gecko) Version/7.0.5 Safari/537.77.4\"</td>\n",
       "      <td>16</td>\n",
       "    </tr>\n",
       "    <tr>\n",
       "      <th>385</th>\n",
       "      <td>Anberlin</td>\n",
       "      <td>Logged In</td>\n",
       "      <td>Rylan</td>\n",
       "      <td>M</td>\n",
       "      <td>60</td>\n",
       "      <td>George</td>\n",
       "      <td>348.68200</td>\n",
       "      <td>paid</td>\n",
       "      <td>Birmingham-Hoover, AL</td>\n",
       "      <td>PUT</td>\n",
       "      <td>NextSong</td>\n",
       "      <td>1.541020e+12</td>\n",
       "      <td>1076</td>\n",
       "      <td>The Haunting</td>\n",
       "      <td>200</td>\n",
       "      <td>1543603884796</td>\n",
       "      <td>\"Mozilla/5.0 (Macintosh; Intel Mac OS X 10_9_4) AppleWebKit/537.77.4 (KHTML, like Gecko) Version/7.0.5 Safari/537.77.4\"</td>\n",
       "      <td>16</td>\n",
       "    </tr>\n",
       "    <tr>\n",
       "      <th>387</th>\n",
       "      <td>Deas Vail</td>\n",
       "      <td>Logged In</td>\n",
       "      <td>Elijah</td>\n",
       "      <td>M</td>\n",
       "      <td>0</td>\n",
       "      <td>Davis</td>\n",
       "      <td>237.68771</td>\n",
       "      <td>free</td>\n",
       "      <td>Detroit-Warren-Dearborn, MI</td>\n",
       "      <td>PUT</td>\n",
       "      <td>NextSong</td>\n",
       "      <td>1.540772e+12</td>\n",
       "      <td>985</td>\n",
       "      <td>Anything You Say (Unreleased Version)</td>\n",
       "      <td>200</td>\n",
       "      <td>1543607664796</td>\n",
       "      <td>\"Mozilla/5.0 (Macintosh; Intel Mac OS X 10_9_4) AppleWebKit/537.77.4 (KHTML, like Gecko) Version/7.0.5 Safari/537.77.4\"</td>\n",
       "      <td>5</td>\n",
       "    </tr>\n",
       "  </tbody>\n",
       "</table>\n",
       "</div>"
      ],
      "text/plain": [
       "               artist       auth firstName gender  itemInSession lastName  \\\n",
       "382  Foo Fighters      Logged In  Rylan     M      57             George    \n",
       "383  Timbiriche        Logged In  Rylan     M      58             George    \n",
       "384  A Perfect Circle  Logged In  Rylan     M      59             George    \n",
       "385  Anberlin          Logged In  Rylan     M      60             George    \n",
       "387  Deas Vail         Logged In  Elijah    M      0              Davis     \n",
       "\n",
       "        length level                     location method      page  \\\n",
       "382  271.38567  paid  Birmingham-Hoover, AL        PUT    NextSong   \n",
       "383  202.60526  paid  Birmingham-Hoover, AL        PUT    NextSong   \n",
       "384  206.05342  paid  Birmingham-Hoover, AL        PUT    NextSong   \n",
       "385  348.68200  paid  Birmingham-Hoover, AL        PUT    NextSong   \n",
       "387  237.68771  free  Detroit-Warren-Dearborn, MI  PUT    NextSong   \n",
       "\n",
       "     registration  sessionId                                   song  status  \\\n",
       "382  1.541020e+12  1076       The Pretender                          200      \n",
       "383  1.541020e+12  1076       Besos De Ceniza                        200      \n",
       "384  1.541020e+12  1076       Rose                                   200      \n",
       "385  1.541020e+12  1076       The Haunting                           200      \n",
       "387  1.540772e+12  985        Anything You Say (Unreleased Version)  200      \n",
       "\n",
       "                ts  \\\n",
       "382  1543603205796   \n",
       "383  1543603476796   \n",
       "384  1543603678796   \n",
       "385  1543603884796   \n",
       "387  1543607664796   \n",
       "\n",
       "                                                                                                                   userAgent  \\\n",
       "382  \"Mozilla/5.0 (Macintosh; Intel Mac OS X 10_9_4) AppleWebKit/537.77.4 (KHTML, like Gecko) Version/7.0.5 Safari/537.77.4\"   \n",
       "383  \"Mozilla/5.0 (Macintosh; Intel Mac OS X 10_9_4) AppleWebKit/537.77.4 (KHTML, like Gecko) Version/7.0.5 Safari/537.77.4\"   \n",
       "384  \"Mozilla/5.0 (Macintosh; Intel Mac OS X 10_9_4) AppleWebKit/537.77.4 (KHTML, like Gecko) Version/7.0.5 Safari/537.77.4\"   \n",
       "385  \"Mozilla/5.0 (Macintosh; Intel Mac OS X 10_9_4) AppleWebKit/537.77.4 (KHTML, like Gecko) Version/7.0.5 Safari/537.77.4\"   \n",
       "387  \"Mozilla/5.0 (Macintosh; Intel Mac OS X 10_9_4) AppleWebKit/537.77.4 (KHTML, like Gecko) Version/7.0.5 Safari/537.77.4\"   \n",
       "\n",
       "    userId  \n",
       "382  16     \n",
       "383  16     \n",
       "384  16     \n",
       "385  16     \n",
       "387  5      "
      ]
     },
     "execution_count": 26,
     "metadata": {},
     "output_type": "execute_result"
    }
   ],
   "source": [
    "tmp_data.loc[tmp_data['page'] == 'NextSong', :].tail()"
   ]
  },
  {
   "cell_type": "code",
   "execution_count": 19,
   "metadata": {
    "editable": true
   },
   "outputs": [],
   "source": [
    "filepath = os.path.join(os.getcwd(), 'data', 'song_data', 'A', 'A', 'A', 'TRAAAAW128F429D538.json')"
   ]
  },
  {
   "cell_type": "code",
   "execution_count": 20,
   "metadata": {
    "editable": true
   },
   "outputs": [],
   "source": [
    "tmp_data = pd.read_json(filepath,lines = True)"
   ]
  },
  {
   "cell_type": "code",
   "execution_count": 21,
   "metadata": {
    "editable": true
   },
   "outputs": [
    {
     "name": "stdout",
     "output_type": "stream",
     "text": [
      "<class 'pandas.core.frame.DataFrame'>\n",
      "RangeIndex: 1 entries, 0 to 0\n",
      "Data columns (total 10 columns):\n",
      "artist_id           1 non-null object\n",
      "artist_latitude     0 non-null float64\n",
      "artist_location     1 non-null object\n",
      "artist_longitude    0 non-null float64\n",
      "artist_name         1 non-null object\n",
      "duration            1 non-null float64\n",
      "num_songs           1 non-null int64\n",
      "song_id             1 non-null object\n",
      "title               1 non-null object\n",
      "year                1 non-null int64\n",
      "dtypes: float64(3), int64(2), object(5)\n",
      "memory usage: 160.0+ bytes\n"
     ]
    }
   ],
   "source": [
    "tmp_data.info()"
   ]
  },
  {
   "cell_type": "code",
   "execution_count": 11,
   "metadata": {
    "editable": true
   },
   "outputs": [
    {
     "data": {
      "text/html": [
       "<div>\n",
       "<style scoped>\n",
       "    .dataframe tbody tr th:only-of-type {\n",
       "        vertical-align: middle;\n",
       "    }\n",
       "\n",
       "    .dataframe tbody tr th {\n",
       "        vertical-align: top;\n",
       "    }\n",
       "\n",
       "    .dataframe thead th {\n",
       "        text-align: right;\n",
       "    }\n",
       "</style>\n",
       "<table border=\"1\" class=\"dataframe\">\n",
       "  <thead>\n",
       "    <tr style=\"text-align: right;\">\n",
       "      <th></th>\n",
       "      <th>artist_id</th>\n",
       "      <th>artist_latitude</th>\n",
       "      <th>artist_location</th>\n",
       "      <th>artist_longitude</th>\n",
       "      <th>artist_name</th>\n",
       "      <th>duration</th>\n",
       "      <th>num_songs</th>\n",
       "      <th>song_id</th>\n",
       "      <th>title</th>\n",
       "      <th>year</th>\n",
       "    </tr>\n",
       "  </thead>\n",
       "  <tbody>\n",
       "    <tr>\n",
       "      <th>0</th>\n",
       "      <td>ARD7TVE1187B99BFB1</td>\n",
       "      <td>NaN</td>\n",
       "      <td>California - LA</td>\n",
       "      <td>NaN</td>\n",
       "      <td>Casual</td>\n",
       "      <td>218.93179</td>\n",
       "      <td>1</td>\n",
       "      <td>SOMZWCG12A8C13C480</td>\n",
       "      <td>I Didn't Mean To</td>\n",
       "      <td>0</td>\n",
       "    </tr>\n",
       "  </tbody>\n",
       "</table>\n",
       "</div>"
      ],
      "text/plain": [
       "            artist_id  artist_latitude  artist_location  artist_longitude  \\\n",
       "0  ARD7TVE1187B99BFB1 NaN               California - LA NaN                 \n",
       "\n",
       "  artist_name   duration  num_songs             song_id             title  \\\n",
       "0  Casual      218.93179  1          SOMZWCG12A8C13C480  I Didn't Mean To   \n",
       "\n",
       "   year  \n",
       "0  0     "
      ]
     },
     "execution_count": 11,
     "metadata": {},
     "output_type": "execute_result"
    }
   ],
   "source": [
    "tmp_data.head()"
   ]
  },
  {
   "cell_type": "code",
   "execution_count": 1,
   "metadata": {
    "editable": true
   },
   "outputs": [],
   "source": [
    "from create_tables import *"
   ]
  },
  {
   "cell_type": "code",
   "execution_count": 2,
   "metadata": {
    "editable": true
   },
   "outputs": [
    {
     "name": "stdout",
     "output_type": "stream",
     "text": [
      "drop table if exists songplays - done!\n",
      "drop table if exists users - done!\n",
      "drop table if exists songs - done!\n",
      "drop table if exists artists - done!\n",
      "drop table if exists time - done!\n",
      "\n",
      "    create table if not exists songplays (\n",
      "        songplay_id int, \n",
      "        start_time bigint, \n",
      "        user_id int, \n",
      "        level varchar, \n",
      "        song_id varchar, \n",
      "        artist_id varchar, \n",
      "        session_id int, \n",
      "        location varchar, \n",
      "        user_agent varchar\n",
      "    )\n",
      " - done!\n",
      "\n",
      "    create table if not exists users (\n",
      "        user_id int, \n",
      "        first_name varchar, \n",
      "        last_name varchar, \n",
      "        gender varchar, \n",
      "        level varchar\n",
      "    )\n",
      " - done!\n",
      "\n",
      "    create table if not exists songs (\n",
      "        song_id varchar, \n",
      "        title varchar, \n",
      "        artist_id varchar, \n",
      "        year int, \n",
      "        duration float\n",
      "    )\n",
      " - done!\n",
      "\n",
      "    create table if not exists artists (\n",
      "        artist_id varchar, \n",
      "        name varchar, \n",
      "        location varchar, \n",
      "        latitude float, \n",
      "        longitude float\n",
      "    )\n",
      " - done!\n",
      "\n",
      "    create table if not exists time (\n",
      "        start_time bigint, \n",
      "        hour int, \n",
      "        day int, \n",
      "        week int, \n",
      "        month int, \n",
      "        year int, \n",
      "        weekday int\n",
      "    )\n",
      " - done!\n"
     ]
    }
   ],
   "source": [
    "main()"
   ]
  },
  {
   "cell_type": "code",
   "execution_count": null,
   "metadata": {
    "editable": true
   },
   "outputs": [],
   "source": []
  }
 ],
 "metadata": {
  "kernelspec": {
   "display_name": "Python 3",
   "language": "python",
   "name": "python3"
  },
  "language_info": {
   "codemirror_mode": {
    "name": "ipython",
    "version": 3
   },
   "file_extension": ".py",
   "mimetype": "text/x-python",
   "name": "python",
   "nbconvert_exporter": "python",
   "pygments_lexer": "ipython3",
   "version": "3.6.3"
  }
 },
 "nbformat": 4,
 "nbformat_minor": 4
}
